{
 "cells": [
  {
   "cell_type": "code",
   "execution_count": 1,
   "id": "afdadb45",
   "metadata": {},
   "outputs": [],
   "source": [
    "import numpy as np\n",
    "import pandas as pd"
   ]
  },
  {
   "cell_type": "code",
   "execution_count": 2,
   "id": "1be7fe6c",
   "metadata": {},
   "outputs": [],
   "source": [
    "#reading dataset\n",
    "data = pd.read_csv('Spotify_dataset.csv')"
   ]
  },
  {
   "cell_type": "code",
   "execution_count": 3,
   "id": "afe5eb50",
   "metadata": {},
   "outputs": [
    {
     "data": {
      "text/html": [
       "<div>\n",
       "<style scoped>\n",
       "    .dataframe tbody tr th:only-of-type {\n",
       "        vertical-align: middle;\n",
       "    }\n",
       "\n",
       "    .dataframe tbody tr th {\n",
       "        vertical-align: top;\n",
       "    }\n",
       "\n",
       "    .dataframe thead th {\n",
       "        text-align: right;\n",
       "    }\n",
       "</style>\n",
       "<table border=\"1\" class=\"dataframe\">\n",
       "  <thead>\n",
       "    <tr style=\"text-align: right;\">\n",
       "      <th></th>\n",
       "      <th>Unnamed: 0</th>\n",
       "      <th>track</th>\n",
       "      <th>artist</th>\n",
       "      <th>uri</th>\n",
       "      <th>danceability</th>\n",
       "      <th>energy</th>\n",
       "      <th>key</th>\n",
       "      <th>loudness</th>\n",
       "      <th>mode</th>\n",
       "      <th>speechiness</th>\n",
       "      <th>...</th>\n",
       "      <th>liveness</th>\n",
       "      <th>valence</th>\n",
       "      <th>tempo</th>\n",
       "      <th>duration_ms</th>\n",
       "      <th>time_signature</th>\n",
       "      <th>chorus_hit</th>\n",
       "      <th>sections</th>\n",
       "      <th>target</th>\n",
       "      <th>decade</th>\n",
       "      <th>genres</th>\n",
       "    </tr>\n",
       "  </thead>\n",
       "  <tbody>\n",
       "    <tr>\n",
       "      <th>0</th>\n",
       "      <td>0</td>\n",
       "      <td>Wild Things</td>\n",
       "      <td>Alessia Cara</td>\n",
       "      <td>spotify:track:2ZyuwVvV6Z3XJaXIFbspeE</td>\n",
       "      <td>0.741</td>\n",
       "      <td>0.6260</td>\n",
       "      <td>1</td>\n",
       "      <td>-4.826</td>\n",
       "      <td>0</td>\n",
       "      <td>0.0886</td>\n",
       "      <td>...</td>\n",
       "      <td>0.0828</td>\n",
       "      <td>0.706</td>\n",
       "      <td>108.029</td>\n",
       "      <td>188493</td>\n",
       "      <td>4</td>\n",
       "      <td>41.18681</td>\n",
       "      <td>10</td>\n",
       "      <td>1</td>\n",
       "      <td>2010s</td>\n",
       "      <td>['alt z', 'canadian contemporary r&amp;b', 'canadi...</td>\n",
       "    </tr>\n",
       "    <tr>\n",
       "      <th>1</th>\n",
       "      <td>1</td>\n",
       "      <td>Surfboard</td>\n",
       "      <td>Esquivel!</td>\n",
       "      <td>spotify:track:61APOtq25SCMuK0V5w2Kgp</td>\n",
       "      <td>0.447</td>\n",
       "      <td>0.2470</td>\n",
       "      <td>5</td>\n",
       "      <td>-14.661</td>\n",
       "      <td>0</td>\n",
       "      <td>0.0346</td>\n",
       "      <td>...</td>\n",
       "      <td>0.0946</td>\n",
       "      <td>0.250</td>\n",
       "      <td>155.489</td>\n",
       "      <td>176880</td>\n",
       "      <td>3</td>\n",
       "      <td>33.18083</td>\n",
       "      <td>9</td>\n",
       "      <td>0</td>\n",
       "      <td>2010s</td>\n",
       "      <td>['adult standards', 'easy listening', 'exotica...</td>\n",
       "    </tr>\n",
       "    <tr>\n",
       "      <th>2</th>\n",
       "      <td>2</td>\n",
       "      <td>Love Someone</td>\n",
       "      <td>Lukas Graham</td>\n",
       "      <td>spotify:track:2JqnpexlO9dmvjUMCaLCLJ</td>\n",
       "      <td>0.550</td>\n",
       "      <td>0.4150</td>\n",
       "      <td>9</td>\n",
       "      <td>-6.557</td>\n",
       "      <td>0</td>\n",
       "      <td>0.0520</td>\n",
       "      <td>...</td>\n",
       "      <td>0.1080</td>\n",
       "      <td>0.274</td>\n",
       "      <td>172.065</td>\n",
       "      <td>205463</td>\n",
       "      <td>4</td>\n",
       "      <td>44.89147</td>\n",
       "      <td>9</td>\n",
       "      <td>1</td>\n",
       "      <td>2010s</td>\n",
       "      <td>['danish pop', 'pop', 'scandipop']</td>\n",
       "    </tr>\n",
       "    <tr>\n",
       "      <th>3</th>\n",
       "      <td>3</td>\n",
       "      <td>Music To My Ears (feat. Tory Lanez)</td>\n",
       "      <td>Keys N Krates</td>\n",
       "      <td>spotify:track:0cjfLhk8WJ3etPTCseKXtk</td>\n",
       "      <td>0.502</td>\n",
       "      <td>0.6480</td>\n",
       "      <td>0</td>\n",
       "      <td>-5.698</td>\n",
       "      <td>0</td>\n",
       "      <td>0.0527</td>\n",
       "      <td>...</td>\n",
       "      <td>0.2040</td>\n",
       "      <td>0.291</td>\n",
       "      <td>91.837</td>\n",
       "      <td>193043</td>\n",
       "      <td>4</td>\n",
       "      <td>29.52521</td>\n",
       "      <td>7</td>\n",
       "      <td>0</td>\n",
       "      <td>2010s</td>\n",
       "      <td>['bass trap', 'edm', 'electronic trap', 'livet...</td>\n",
       "    </tr>\n",
       "    <tr>\n",
       "      <th>4</th>\n",
       "      <td>4</td>\n",
       "      <td>Juju On That Beat (TZ Anthem)</td>\n",
       "      <td>Zay Hilfigerrr &amp; Zayion McCall</td>\n",
       "      <td>spotify:track:1lItf5ZXJc1by9SbPeljFd</td>\n",
       "      <td>0.807</td>\n",
       "      <td>0.8870</td>\n",
       "      <td>1</td>\n",
       "      <td>-3.892</td>\n",
       "      <td>1</td>\n",
       "      <td>0.2750</td>\n",
       "      <td>...</td>\n",
       "      <td>0.3910</td>\n",
       "      <td>0.780</td>\n",
       "      <td>160.517</td>\n",
       "      <td>144244</td>\n",
       "      <td>4</td>\n",
       "      <td>24.99199</td>\n",
       "      <td>8</td>\n",
       "      <td>1</td>\n",
       "      <td>2010s</td>\n",
       "      <td>NaN</td>\n",
       "    </tr>\n",
       "    <tr>\n",
       "      <th>...</th>\n",
       "      <td>...</td>\n",
       "      <td>...</td>\n",
       "      <td>...</td>\n",
       "      <td>...</td>\n",
       "      <td>...</td>\n",
       "      <td>...</td>\n",
       "      <td>...</td>\n",
       "      <td>...</td>\n",
       "      <td>...</td>\n",
       "      <td>...</td>\n",
       "      <td>...</td>\n",
       "      <td>...</td>\n",
       "      <td>...</td>\n",
       "      <td>...</td>\n",
       "      <td>...</td>\n",
       "      <td>...</td>\n",
       "      <td>...</td>\n",
       "      <td>...</td>\n",
       "      <td>...</td>\n",
       "      <td>...</td>\n",
       "      <td>...</td>\n",
       "    </tr>\n",
       "    <tr>\n",
       "      <th>44889</th>\n",
       "      <td>41101</td>\n",
       "      <td>Le ire di Ursus</td>\n",
       "      <td>Giampiero Boneschi</td>\n",
       "      <td>spotify:track:3dVgolCVuNgecU5jovpc45</td>\n",
       "      <td>0.420</td>\n",
       "      <td>0.8730</td>\n",
       "      <td>3</td>\n",
       "      <td>-11.689</td>\n",
       "      <td>1</td>\n",
       "      <td>0.1000</td>\n",
       "      <td>...</td>\n",
       "      <td>0.3630</td>\n",
       "      <td>0.183</td>\n",
       "      <td>119.821</td>\n",
       "      <td>26244</td>\n",
       "      <td>4</td>\n",
       "      <td>0.00000</td>\n",
       "      <td>2</td>\n",
       "      <td>0</td>\n",
       "      <td>1960s</td>\n",
       "      <td>['spytrack']</td>\n",
       "    </tr>\n",
       "    <tr>\n",
       "      <th>44890</th>\n",
       "      <td>41102</td>\n",
       "      <td>A-B-C</td>\n",
       "      <td>John Zacherle</td>\n",
       "      <td>spotify:track:0zXhzKf4raEYstebL7L42C</td>\n",
       "      <td>0.716</td>\n",
       "      <td>0.7420</td>\n",
       "      <td>10</td>\n",
       "      <td>-5.727</td>\n",
       "      <td>0</td>\n",
       "      <td>0.2420</td>\n",
       "      <td>...</td>\n",
       "      <td>0.1070</td>\n",
       "      <td>0.834</td>\n",
       "      <td>135.104</td>\n",
       "      <td>142987</td>\n",
       "      <td>4</td>\n",
       "      <td>28.34316</td>\n",
       "      <td>10</td>\n",
       "      <td>0</td>\n",
       "      <td>1960s</td>\n",
       "      <td>['halloween']</td>\n",
       "    </tr>\n",
       "    <tr>\n",
       "      <th>44891</th>\n",
       "      <td>41103</td>\n",
       "      <td>Useless Landscape</td>\n",
       "      <td>Antônio Carlos Jobim</td>\n",
       "      <td>spotify:track:2uC02PCRVM6BhAaK7dgxxp</td>\n",
       "      <td>0.361</td>\n",
       "      <td>0.0944</td>\n",
       "      <td>10</td>\n",
       "      <td>-22.663</td>\n",
       "      <td>1</td>\n",
       "      <td>0.0327</td>\n",
       "      <td>...</td>\n",
       "      <td>0.1150</td>\n",
       "      <td>0.139</td>\n",
       "      <td>92.472</td>\n",
       "      <td>137200</td>\n",
       "      <td>4</td>\n",
       "      <td>56.63498</td>\n",
       "      <td>6</td>\n",
       "      <td>0</td>\n",
       "      <td>1960s</td>\n",
       "      <td>['adult standards', 'bossa nova', 'brazilian c...</td>\n",
       "    </tr>\n",
       "    <tr>\n",
       "      <th>44892</th>\n",
       "      <td>41104</td>\n",
       "      <td>Vendedor De Assaí</td>\n",
       "      <td>Ary Lobo</td>\n",
       "      <td>spotify:track:0gpSUWZWNIRrEenaC1ZGk9</td>\n",
       "      <td>0.452</td>\n",
       "      <td>0.7590</td>\n",
       "      <td>4</td>\n",
       "      <td>-7.821</td>\n",
       "      <td>0</td>\n",
       "      <td>0.1750</td>\n",
       "      <td>...</td>\n",
       "      <td>0.7380</td>\n",
       "      <td>0.853</td>\n",
       "      <td>137.976</td>\n",
       "      <td>159107</td>\n",
       "      <td>3</td>\n",
       "      <td>28.24372</td>\n",
       "      <td>9</td>\n",
       "      <td>0</td>\n",
       "      <td>1960s</td>\n",
       "      <td>['forro', 'forro tradicional']</td>\n",
       "    </tr>\n",
       "    <tr>\n",
       "      <th>44893</th>\n",
       "      <td>41105</td>\n",
       "      <td>Mambo Simphony - Remasterizado</td>\n",
       "      <td>Orquesta Casino De La Playa</td>\n",
       "      <td>spotify:track:5j0G0nkCSPlmSCSgXchMn3</td>\n",
       "      <td>0.554</td>\n",
       "      <td>0.2780</td>\n",
       "      <td>5</td>\n",
       "      <td>-8.386</td>\n",
       "      <td>1</td>\n",
       "      <td>0.0349</td>\n",
       "      <td>...</td>\n",
       "      <td>0.1360</td>\n",
       "      <td>0.428</td>\n",
       "      <td>131.401</td>\n",
       "      <td>164227</td>\n",
       "      <td>4</td>\n",
       "      <td>37.39251</td>\n",
       "      <td>8</td>\n",
       "      <td>0</td>\n",
       "      <td>1960s</td>\n",
       "      <td>['deep free jazz', 'mambo']</td>\n",
       "    </tr>\n",
       "  </tbody>\n",
       "</table>\n",
       "<p>44894 rows × 22 columns</p>\n",
       "</div>"
      ],
      "text/plain": [
       "       Unnamed: 0                                track  \\\n",
       "0               0                          Wild Things   \n",
       "1               1                            Surfboard   \n",
       "2               2                         Love Someone   \n",
       "3               3  Music To My Ears (feat. Tory Lanez)   \n",
       "4               4        Juju On That Beat (TZ Anthem)   \n",
       "...           ...                                  ...   \n",
       "44889       41101                      Le ire di Ursus   \n",
       "44890       41102                                A-B-C   \n",
       "44891       41103                    Useless Landscape   \n",
       "44892       41104                    Vendedor De Assaí   \n",
       "44893       41105       Mambo Simphony - Remasterizado   \n",
       "\n",
       "                               artist                                   uri  \\\n",
       "0                        Alessia Cara  spotify:track:2ZyuwVvV6Z3XJaXIFbspeE   \n",
       "1                           Esquivel!  spotify:track:61APOtq25SCMuK0V5w2Kgp   \n",
       "2                        Lukas Graham  spotify:track:2JqnpexlO9dmvjUMCaLCLJ   \n",
       "3                       Keys N Krates  spotify:track:0cjfLhk8WJ3etPTCseKXtk   \n",
       "4      Zay Hilfigerrr & Zayion McCall  spotify:track:1lItf5ZXJc1by9SbPeljFd   \n",
       "...                               ...                                   ...   \n",
       "44889              Giampiero Boneschi  spotify:track:3dVgolCVuNgecU5jovpc45   \n",
       "44890                   John Zacherle  spotify:track:0zXhzKf4raEYstebL7L42C   \n",
       "44891            Antônio Carlos Jobim  spotify:track:2uC02PCRVM6BhAaK7dgxxp   \n",
       "44892                        Ary Lobo  spotify:track:0gpSUWZWNIRrEenaC1ZGk9   \n",
       "44893     Orquesta Casino De La Playa  spotify:track:5j0G0nkCSPlmSCSgXchMn3   \n",
       "\n",
       "       danceability  energy  key  loudness  mode  speechiness  ...  liveness  \\\n",
       "0             0.741  0.6260    1    -4.826     0       0.0886  ...    0.0828   \n",
       "1             0.447  0.2470    5   -14.661     0       0.0346  ...    0.0946   \n",
       "2             0.550  0.4150    9    -6.557     0       0.0520  ...    0.1080   \n",
       "3             0.502  0.6480    0    -5.698     0       0.0527  ...    0.2040   \n",
       "4             0.807  0.8870    1    -3.892     1       0.2750  ...    0.3910   \n",
       "...             ...     ...  ...       ...   ...          ...  ...       ...   \n",
       "44889         0.420  0.8730    3   -11.689     1       0.1000  ...    0.3630   \n",
       "44890         0.716  0.7420   10    -5.727     0       0.2420  ...    0.1070   \n",
       "44891         0.361  0.0944   10   -22.663     1       0.0327  ...    0.1150   \n",
       "44892         0.452  0.7590    4    -7.821     0       0.1750  ...    0.7380   \n",
       "44893         0.554  0.2780    5    -8.386     1       0.0349  ...    0.1360   \n",
       "\n",
       "       valence    tempo  duration_ms  time_signature  chorus_hit  sections  \\\n",
       "0        0.706  108.029       188493               4    41.18681        10   \n",
       "1        0.250  155.489       176880               3    33.18083         9   \n",
       "2        0.274  172.065       205463               4    44.89147         9   \n",
       "3        0.291   91.837       193043               4    29.52521         7   \n",
       "4        0.780  160.517       144244               4    24.99199         8   \n",
       "...        ...      ...          ...             ...         ...       ...   \n",
       "44889    0.183  119.821        26244               4     0.00000         2   \n",
       "44890    0.834  135.104       142987               4    28.34316        10   \n",
       "44891    0.139   92.472       137200               4    56.63498         6   \n",
       "44892    0.853  137.976       159107               3    28.24372         9   \n",
       "44893    0.428  131.401       164227               4    37.39251         8   \n",
       "\n",
       "       target  decade                                             genres  \n",
       "0           1   2010s  ['alt z', 'canadian contemporary r&b', 'canadi...  \n",
       "1           0   2010s  ['adult standards', 'easy listening', 'exotica...  \n",
       "2           1   2010s                 ['danish pop', 'pop', 'scandipop']  \n",
       "3           0   2010s  ['bass trap', 'edm', 'electronic trap', 'livet...  \n",
       "4           1   2010s                                                NaN  \n",
       "...       ...     ...                                                ...  \n",
       "44889       0   1960s                                       ['spytrack']  \n",
       "44890       0   1960s                                      ['halloween']  \n",
       "44891       0   1960s  ['adult standards', 'bossa nova', 'brazilian c...  \n",
       "44892       0   1960s                     ['forro', 'forro tradicional']  \n",
       "44893       0   1960s                        ['deep free jazz', 'mambo']  \n",
       "\n",
       "[44894 rows x 22 columns]"
      ]
     },
     "execution_count": 3,
     "metadata": {},
     "output_type": "execute_result"
    }
   ],
   "source": [
    "data"
   ]
  },
  {
   "cell_type": "code",
   "execution_count": 4,
   "id": "7c9ca928",
   "metadata": {},
   "outputs": [],
   "source": [
    "# removing unwanted rows\n",
    "data = data.drop(['Unnamed: 0', 'track','uri','decade','genres','artist', 'sections'], axis = 1)"
   ]
  },
  {
   "cell_type": "code",
   "execution_count": 5,
   "id": "e654914b",
   "metadata": {},
   "outputs": [
    {
     "data": {
      "text/html": [
       "<div>\n",
       "<style scoped>\n",
       "    .dataframe tbody tr th:only-of-type {\n",
       "        vertical-align: middle;\n",
       "    }\n",
       "\n",
       "    .dataframe tbody tr th {\n",
       "        vertical-align: top;\n",
       "    }\n",
       "\n",
       "    .dataframe thead th {\n",
       "        text-align: right;\n",
       "    }\n",
       "</style>\n",
       "<table border=\"1\" class=\"dataframe\">\n",
       "  <thead>\n",
       "    <tr style=\"text-align: right;\">\n",
       "      <th></th>\n",
       "      <th>danceability</th>\n",
       "      <th>energy</th>\n",
       "      <th>key</th>\n",
       "      <th>loudness</th>\n",
       "      <th>mode</th>\n",
       "      <th>speechiness</th>\n",
       "      <th>acousticness</th>\n",
       "      <th>instrumentalness</th>\n",
       "      <th>liveness</th>\n",
       "      <th>valence</th>\n",
       "      <th>tempo</th>\n",
       "      <th>duration_ms</th>\n",
       "      <th>time_signature</th>\n",
       "      <th>chorus_hit</th>\n",
       "      <th>target</th>\n",
       "    </tr>\n",
       "  </thead>\n",
       "  <tbody>\n",
       "    <tr>\n",
       "      <th>0</th>\n",
       "      <td>0.741</td>\n",
       "      <td>0.6260</td>\n",
       "      <td>1</td>\n",
       "      <td>-4.826</td>\n",
       "      <td>0</td>\n",
       "      <td>0.0886</td>\n",
       "      <td>0.02000</td>\n",
       "      <td>0.000000</td>\n",
       "      <td>0.0828</td>\n",
       "      <td>0.706</td>\n",
       "      <td>108.029</td>\n",
       "      <td>188493</td>\n",
       "      <td>4</td>\n",
       "      <td>41.18681</td>\n",
       "      <td>1</td>\n",
       "    </tr>\n",
       "    <tr>\n",
       "      <th>1</th>\n",
       "      <td>0.447</td>\n",
       "      <td>0.2470</td>\n",
       "      <td>5</td>\n",
       "      <td>-14.661</td>\n",
       "      <td>0</td>\n",
       "      <td>0.0346</td>\n",
       "      <td>0.87100</td>\n",
       "      <td>0.814000</td>\n",
       "      <td>0.0946</td>\n",
       "      <td>0.250</td>\n",
       "      <td>155.489</td>\n",
       "      <td>176880</td>\n",
       "      <td>3</td>\n",
       "      <td>33.18083</td>\n",
       "      <td>0</td>\n",
       "    </tr>\n",
       "    <tr>\n",
       "      <th>2</th>\n",
       "      <td>0.550</td>\n",
       "      <td>0.4150</td>\n",
       "      <td>9</td>\n",
       "      <td>-6.557</td>\n",
       "      <td>0</td>\n",
       "      <td>0.0520</td>\n",
       "      <td>0.16100</td>\n",
       "      <td>0.000000</td>\n",
       "      <td>0.1080</td>\n",
       "      <td>0.274</td>\n",
       "      <td>172.065</td>\n",
       "      <td>205463</td>\n",
       "      <td>4</td>\n",
       "      <td>44.89147</td>\n",
       "      <td>1</td>\n",
       "    </tr>\n",
       "    <tr>\n",
       "      <th>3</th>\n",
       "      <td>0.502</td>\n",
       "      <td>0.6480</td>\n",
       "      <td>0</td>\n",
       "      <td>-5.698</td>\n",
       "      <td>0</td>\n",
       "      <td>0.0527</td>\n",
       "      <td>0.00513</td>\n",
       "      <td>0.000000</td>\n",
       "      <td>0.2040</td>\n",
       "      <td>0.291</td>\n",
       "      <td>91.837</td>\n",
       "      <td>193043</td>\n",
       "      <td>4</td>\n",
       "      <td>29.52521</td>\n",
       "      <td>0</td>\n",
       "    </tr>\n",
       "    <tr>\n",
       "      <th>4</th>\n",
       "      <td>0.807</td>\n",
       "      <td>0.8870</td>\n",
       "      <td>1</td>\n",
       "      <td>-3.892</td>\n",
       "      <td>1</td>\n",
       "      <td>0.2750</td>\n",
       "      <td>0.00381</td>\n",
       "      <td>0.000000</td>\n",
       "      <td>0.3910</td>\n",
       "      <td>0.780</td>\n",
       "      <td>160.517</td>\n",
       "      <td>144244</td>\n",
       "      <td>4</td>\n",
       "      <td>24.99199</td>\n",
       "      <td>1</td>\n",
       "    </tr>\n",
       "    <tr>\n",
       "      <th>...</th>\n",
       "      <td>...</td>\n",
       "      <td>...</td>\n",
       "      <td>...</td>\n",
       "      <td>...</td>\n",
       "      <td>...</td>\n",
       "      <td>...</td>\n",
       "      <td>...</td>\n",
       "      <td>...</td>\n",
       "      <td>...</td>\n",
       "      <td>...</td>\n",
       "      <td>...</td>\n",
       "      <td>...</td>\n",
       "      <td>...</td>\n",
       "      <td>...</td>\n",
       "      <td>...</td>\n",
       "    </tr>\n",
       "    <tr>\n",
       "      <th>44889</th>\n",
       "      <td>0.420</td>\n",
       "      <td>0.8730</td>\n",
       "      <td>3</td>\n",
       "      <td>-11.689</td>\n",
       "      <td>1</td>\n",
       "      <td>0.1000</td>\n",
       "      <td>0.80800</td>\n",
       "      <td>0.879000</td>\n",
       "      <td>0.3630</td>\n",
       "      <td>0.183</td>\n",
       "      <td>119.821</td>\n",
       "      <td>26244</td>\n",
       "      <td>4</td>\n",
       "      <td>0.00000</td>\n",
       "      <td>0</td>\n",
       "    </tr>\n",
       "    <tr>\n",
       "      <th>44890</th>\n",
       "      <td>0.716</td>\n",
       "      <td>0.7420</td>\n",
       "      <td>10</td>\n",
       "      <td>-5.727</td>\n",
       "      <td>0</td>\n",
       "      <td>0.2420</td>\n",
       "      <td>0.66300</td>\n",
       "      <td>0.000000</td>\n",
       "      <td>0.1070</td>\n",
       "      <td>0.834</td>\n",
       "      <td>135.104</td>\n",
       "      <td>142987</td>\n",
       "      <td>4</td>\n",
       "      <td>28.34316</td>\n",
       "      <td>0</td>\n",
       "    </tr>\n",
       "    <tr>\n",
       "      <th>44891</th>\n",
       "      <td>0.361</td>\n",
       "      <td>0.0944</td>\n",
       "      <td>10</td>\n",
       "      <td>-22.663</td>\n",
       "      <td>1</td>\n",
       "      <td>0.0327</td>\n",
       "      <td>0.94000</td>\n",
       "      <td>0.000178</td>\n",
       "      <td>0.1150</td>\n",
       "      <td>0.139</td>\n",
       "      <td>92.472</td>\n",
       "      <td>137200</td>\n",
       "      <td>4</td>\n",
       "      <td>56.63498</td>\n",
       "      <td>0</td>\n",
       "    </tr>\n",
       "    <tr>\n",
       "      <th>44892</th>\n",
       "      <td>0.452</td>\n",
       "      <td>0.7590</td>\n",
       "      <td>4</td>\n",
       "      <td>-7.821</td>\n",
       "      <td>0</td>\n",
       "      <td>0.1750</td>\n",
       "      <td>0.65800</td>\n",
       "      <td>0.000000</td>\n",
       "      <td>0.7380</td>\n",
       "      <td>0.853</td>\n",
       "      <td>137.976</td>\n",
       "      <td>159107</td>\n",
       "      <td>3</td>\n",
       "      <td>28.24372</td>\n",
       "      <td>0</td>\n",
       "    </tr>\n",
       "    <tr>\n",
       "      <th>44893</th>\n",
       "      <td>0.554</td>\n",
       "      <td>0.2780</td>\n",
       "      <td>5</td>\n",
       "      <td>-8.386</td>\n",
       "      <td>1</td>\n",
       "      <td>0.0349</td>\n",
       "      <td>0.92800</td>\n",
       "      <td>0.922000</td>\n",
       "      <td>0.1360</td>\n",
       "      <td>0.428</td>\n",
       "      <td>131.401</td>\n",
       "      <td>164227</td>\n",
       "      <td>4</td>\n",
       "      <td>37.39251</td>\n",
       "      <td>0</td>\n",
       "    </tr>\n",
       "  </tbody>\n",
       "</table>\n",
       "<p>44894 rows × 15 columns</p>\n",
       "</div>"
      ],
      "text/plain": [
       "       danceability  energy  key  loudness  mode  speechiness  acousticness  \\\n",
       "0             0.741  0.6260    1    -4.826     0       0.0886       0.02000   \n",
       "1             0.447  0.2470    5   -14.661     0       0.0346       0.87100   \n",
       "2             0.550  0.4150    9    -6.557     0       0.0520       0.16100   \n",
       "3             0.502  0.6480    0    -5.698     0       0.0527       0.00513   \n",
       "4             0.807  0.8870    1    -3.892     1       0.2750       0.00381   \n",
       "...             ...     ...  ...       ...   ...          ...           ...   \n",
       "44889         0.420  0.8730    3   -11.689     1       0.1000       0.80800   \n",
       "44890         0.716  0.7420   10    -5.727     0       0.2420       0.66300   \n",
       "44891         0.361  0.0944   10   -22.663     1       0.0327       0.94000   \n",
       "44892         0.452  0.7590    4    -7.821     0       0.1750       0.65800   \n",
       "44893         0.554  0.2780    5    -8.386     1       0.0349       0.92800   \n",
       "\n",
       "       instrumentalness  liveness  valence    tempo  duration_ms  \\\n",
       "0              0.000000    0.0828    0.706  108.029       188493   \n",
       "1              0.814000    0.0946    0.250  155.489       176880   \n",
       "2              0.000000    0.1080    0.274  172.065       205463   \n",
       "3              0.000000    0.2040    0.291   91.837       193043   \n",
       "4              0.000000    0.3910    0.780  160.517       144244   \n",
       "...                 ...       ...      ...      ...          ...   \n",
       "44889          0.879000    0.3630    0.183  119.821        26244   \n",
       "44890          0.000000    0.1070    0.834  135.104       142987   \n",
       "44891          0.000178    0.1150    0.139   92.472       137200   \n",
       "44892          0.000000    0.7380    0.853  137.976       159107   \n",
       "44893          0.922000    0.1360    0.428  131.401       164227   \n",
       "\n",
       "       time_signature  chorus_hit  target  \n",
       "0                   4    41.18681       1  \n",
       "1                   3    33.18083       0  \n",
       "2                   4    44.89147       1  \n",
       "3                   4    29.52521       0  \n",
       "4                   4    24.99199       1  \n",
       "...               ...         ...     ...  \n",
       "44889               4     0.00000       0  \n",
       "44890               4    28.34316       0  \n",
       "44891               4    56.63498       0  \n",
       "44892               3    28.24372       0  \n",
       "44893               4    37.39251       0  \n",
       "\n",
       "[44894 rows x 15 columns]"
      ]
     },
     "execution_count": 5,
     "metadata": {},
     "output_type": "execute_result"
    }
   ],
   "source": [
    "data"
   ]
  },
  {
   "cell_type": "code",
   "execution_count": null,
   "id": "7beef0e6",
   "metadata": {},
   "outputs": [],
   "source": []
  },
  {
   "cell_type": "code",
   "execution_count": 6,
   "id": "b7dda281",
   "metadata": {},
   "outputs": [
    {
     "name": "stdout",
     "output_type": "stream",
     "text": [
      "<class 'pandas.core.frame.DataFrame'>\n",
      "RangeIndex: 44894 entries, 0 to 44893\n",
      "Data columns (total 15 columns):\n",
      " #   Column            Non-Null Count  Dtype  \n",
      "---  ------            --------------  -----  \n",
      " 0   danceability      44894 non-null  float64\n",
      " 1   energy            44894 non-null  float64\n",
      " 2   key               44894 non-null  int64  \n",
      " 3   loudness          44894 non-null  float64\n",
      " 4   mode              44894 non-null  int64  \n",
      " 5   speechiness       44894 non-null  float64\n",
      " 6   acousticness      44894 non-null  float64\n",
      " 7   instrumentalness  44894 non-null  float64\n",
      " 8   liveness          44894 non-null  float64\n",
      " 9   valence           44894 non-null  float64\n",
      " 10  tempo             44894 non-null  float64\n",
      " 11  duration_ms       44894 non-null  int64  \n",
      " 12  time_signature    44894 non-null  int64  \n",
      " 13  chorus_hit        44894 non-null  float64\n",
      " 14  target            44894 non-null  int64  \n",
      "dtypes: float64(10), int64(5)\n",
      "memory usage: 5.1 MB\n"
     ]
    }
   ],
   "source": [
    "data.info()"
   ]
  },
  {
   "cell_type": "code",
   "execution_count": 7,
   "id": "588d7e8e",
   "metadata": {},
   "outputs": [],
   "source": [
    "# handling Outliers"
   ]
  },
  {
   "cell_type": "code",
   "execution_count": 8,
   "id": "23b56bb0",
   "metadata": {},
   "outputs": [],
   "source": [
    "import matplotlib.pyplot as plt\n",
    "import seaborn as sns"
   ]
  },
  {
   "cell_type": "code",
   "execution_count": 9,
   "id": "8135ed84",
   "metadata": {},
   "outputs": [
    {
     "name": "stderr",
     "output_type": "stream",
     "text": [
      "C:\\ProgramData\\Anaconda3\\lib\\site-packages\\seaborn\\_decorators.py:36: FutureWarning: Pass the following variable as a keyword arg: x. From version 0.12, the only valid positional argument will be `data`, and passing other arguments without an explicit keyword will result in an error or misinterpretation.\n",
      "  warnings.warn(\n",
      "C:\\ProgramData\\Anaconda3\\lib\\site-packages\\seaborn\\_decorators.py:36: FutureWarning: Pass the following variable as a keyword arg: x. From version 0.12, the only valid positional argument will be `data`, and passing other arguments without an explicit keyword will result in an error or misinterpretation.\n",
      "  warnings.warn(\n",
      "C:\\ProgramData\\Anaconda3\\lib\\site-packages\\seaborn\\_decorators.py:36: FutureWarning: Pass the following variable as a keyword arg: x. From version 0.12, the only valid positional argument will be `data`, and passing other arguments without an explicit keyword will result in an error or misinterpretation.\n",
      "  warnings.warn(\n",
      "C:\\ProgramData\\Anaconda3\\lib\\site-packages\\seaborn\\_decorators.py:36: FutureWarning: Pass the following variable as a keyword arg: x. From version 0.12, the only valid positional argument will be `data`, and passing other arguments without an explicit keyword will result in an error or misinterpretation.\n",
      "  warnings.warn(\n",
      "C:\\ProgramData\\Anaconda3\\lib\\site-packages\\seaborn\\_decorators.py:36: FutureWarning: Pass the following variable as a keyword arg: x. From version 0.12, the only valid positional argument will be `data`, and passing other arguments without an explicit keyword will result in an error or misinterpretation.\n",
      "  warnings.warn(\n",
      "C:\\ProgramData\\Anaconda3\\lib\\site-packages\\seaborn\\_decorators.py:36: FutureWarning: Pass the following variable as a keyword arg: x. From version 0.12, the only valid positional argument will be `data`, and passing other arguments without an explicit keyword will result in an error or misinterpretation.\n",
      "  warnings.warn(\n",
      "C:\\ProgramData\\Anaconda3\\lib\\site-packages\\seaborn\\_decorators.py:36: FutureWarning: Pass the following variable as a keyword arg: x. From version 0.12, the only valid positional argument will be `data`, and passing other arguments without an explicit keyword will result in an error or misinterpretation.\n",
      "  warnings.warn(\n",
      "C:\\ProgramData\\Anaconda3\\lib\\site-packages\\seaborn\\_decorators.py:36: FutureWarning: Pass the following variable as a keyword arg: x. From version 0.12, the only valid positional argument will be `data`, and passing other arguments without an explicit keyword will result in an error or misinterpretation.\n",
      "  warnings.warn(\n",
      "C:\\ProgramData\\Anaconda3\\lib\\site-packages\\seaborn\\_decorators.py:36: FutureWarning: Pass the following variable as a keyword arg: x. From version 0.12, the only valid positional argument will be `data`, and passing other arguments without an explicit keyword will result in an error or misinterpretation.\n",
      "  warnings.warn(\n",
      "C:\\ProgramData\\Anaconda3\\lib\\site-packages\\seaborn\\_decorators.py:36: FutureWarning: Pass the following variable as a keyword arg: x. From version 0.12, the only valid positional argument will be `data`, and passing other arguments without an explicit keyword will result in an error or misinterpretation.\n",
      "  warnings.warn(\n",
      "C:\\ProgramData\\Anaconda3\\lib\\site-packages\\seaborn\\_decorators.py:36: FutureWarning: Pass the following variable as a keyword arg: x. From version 0.12, the only valid positional argument will be `data`, and passing other arguments without an explicit keyword will result in an error or misinterpretation.\n",
      "  warnings.warn(\n",
      "C:\\ProgramData\\Anaconda3\\lib\\site-packages\\seaborn\\_decorators.py:36: FutureWarning: Pass the following variable as a keyword arg: x. From version 0.12, the only valid positional argument will be `data`, and passing other arguments without an explicit keyword will result in an error or misinterpretation.\n",
      "  warnings.warn(\n",
      "C:\\ProgramData\\Anaconda3\\lib\\site-packages\\seaborn\\_decorators.py:36: FutureWarning: Pass the following variable as a keyword arg: x. From version 0.12, the only valid positional argument will be `data`, and passing other arguments without an explicit keyword will result in an error or misinterpretation.\n",
      "  warnings.warn(\n",
      "C:\\ProgramData\\Anaconda3\\lib\\site-packages\\seaborn\\_decorators.py:36: FutureWarning: Pass the following variable as a keyword arg: x. From version 0.12, the only valid positional argument will be `data`, and passing other arguments without an explicit keyword will result in an error or misinterpretation.\n",
      "  warnings.warn(\n",
      "C:\\ProgramData\\Anaconda3\\lib\\site-packages\\seaborn\\_decorators.py:36: FutureWarning: Pass the following variable as a keyword arg: x. From version 0.12, the only valid positional argument will be `data`, and passing other arguments without an explicit keyword will result in an error or misinterpretation.\n",
      "  warnings.warn(\n"
     ]
    },
    {
     "data": {
      "image/png": "[encoded data removed]",
      "text/plain": [
       "<Figure size 1152x1152 with 15 Axes>"
      ]
     },
     "metadata": {
      "needs_background": "light"
     },
     "output_type": "display_data"
    }
   ],
   "source": [
    "plt.figure(figsize =(16, 16))\n",
    "\n",
    "for i in range(len(data.columns)):\n",
    "    plt.subplot(4,4, i + 1)\n",
    "    sns.boxplot(data[data.columns[i]])\n",
    "    "
   ]
  },
  {
   "cell_type": "code",
   "execution_count": 10,
   "id": "3b914899",
   "metadata": {},
   "outputs": [],
   "source": [
    "from scipy import stats\n",
    "def get_outlier_count(data, threshold):\n",
    "    data = data.copy()\n",
    "    \n",
    "    #calculate the zscore\n",
    "    zscore = stats.norm.ppf(threshold)\n",
    "    \n",
    "    #calculate the zscore for each value in table\n",
    "    zscore_values = pd.DataFrame(np.abs(stats.zscore(data)), columns=data.columns)\n",
    "    \n",
    "    #return the count of outliers in each column\n",
    "    return (zscore_values > zscore).sum(axis = 0)"
   ]
  },
  {
   "cell_type": "code",
   "execution_count": 11,
   "id": "eb60248d",
   "metadata": {},
   "outputs": [
    {
     "data": {
      "text/plain": [
       "danceability          0\n",
       "energy                0\n",
       "key                   0\n",
       "loudness            263\n",
       "mode                  0\n",
       "speechiness         524\n",
       "acousticness          0\n",
       "instrumentalness      0\n",
       "liveness            595\n",
       "valence               0\n",
       "tempo                 4\n",
       "duration_ms         339\n",
       "time_signature      414\n",
       "chorus_hit          325\n",
       "target                0\n",
       "dtype: int64"
      ]
     },
     "execution_count": 11,
     "metadata": {},
     "output_type": "execute_result"
    }
   ],
   "source": [
    "get_outlier_count(data, 0.99995)"
   ]
  },
  {
   "cell_type": "code",
   "execution_count": 12,
   "id": "05344570",
   "metadata": {},
   "outputs": [
    {
     "data": {
      "text/plain": [
       "danceability        0\n",
       "energy              0\n",
       "key                 0\n",
       "loudness            0\n",
       "mode                0\n",
       "speechiness         0\n",
       "acousticness        0\n",
       "instrumentalness    0\n",
       "liveness            0\n",
       "valence             0\n",
       "tempo               0\n",
       "duration_ms         0\n",
       "time_signature      0\n",
       "chorus_hit          0\n",
       "target              0\n",
       "dtype: int64"
      ]
     },
     "execution_count": 12,
     "metadata": {},
     "output_type": "execute_result"
    }
   ],
   "source": [
    "data.isnull().sum()"
   ]
  },
  {
   "cell_type": "code",
   "execution_count": 13,
   "id": "7d8e5e90",
   "metadata": {},
   "outputs": [],
   "source": [
    "def remove_outliers(data, threshold):\n",
    "    data = data.copy()\n",
    "    \n",
    "    #calculate the zscore\n",
    "    zscore = stats.norm.ppf(threshold)\n",
    "    \n",
    "    #calculate the zscore for each value in table\n",
    "    zscore_values = pd.DataFrame(np.abs(stats.zscore(data)), columns=data.columns)\n",
    "    \n",
    "    # get the indxies of the outliers\n",
    "    outlier = (zscore_values > zscore).sum(axis = 1) > 0\n",
    "    outlier_indexies = data.index[outlier]\n",
    "    \n",
    "    #dropping outliers\n",
    "    data = data.drop(outlier_indexies, axis = 0).reset_index(drop=True)\n",
    "    return data"
   ]
  },
  {
   "cell_type": "code",
   "execution_count": null,
   "id": "b2f90c0c",
   "metadata": {},
   "outputs": [],
   "source": []
  },
  {
   "cell_type": "code",
   "execution_count": 14,
   "id": "47b169af",
   "metadata": {},
   "outputs": [
    {
     "data": {
      "text/plain": [
       "Index(['danceability', 'energy', 'key', 'loudness', 'mode', 'speechiness',\n",
       "       'acousticness', 'instrumentalness', 'liveness', 'valence', 'tempo',\n",
       "       'duration_ms', 'time_signature', 'chorus_hit', 'target'],\n",
       "      dtype='object')"
      ]
     },
     "execution_count": 14,
     "metadata": {},
     "output_type": "execute_result"
    }
   ],
   "source": [
    "data.columns"
   ]
  },
  {
   "cell_type": "code",
   "execution_count": 15,
   "id": "9e358cc9",
   "metadata": {},
   "outputs": [
    {
     "data": {
      "text/plain": [
       "1    22665\n",
       "0    22229\n",
       "Name: target, dtype: int64"
      ]
     },
     "execution_count": 15,
     "metadata": {},
     "output_type": "execute_result"
    }
   ],
   "source": [
    "data['target'].value_counts()"
   ]
  },
  {
   "cell_type": "code",
   "execution_count": 16,
   "id": "55dc1f9a",
   "metadata": {},
   "outputs": [],
   "source": [
    "# pre processing\n",
    "from sklearn.preprocessing import StandardScaler\n",
    "from sklearn.model_selection import train_test_split\n"
   ]
  },
  {
   "cell_type": "code",
   "execution_count": 17,
   "id": "846c8cce",
   "metadata": {},
   "outputs": [],
   "source": [
    "def data_preprocessing(data, outlier = True, threshold = 0.99999999999995):\n",
    "    data = data.copy()\n",
    "    \n",
    "    #remmove outlier\n",
    "    if outlier == False:\n",
    "        data = remove_outliers(data, threshold)\n",
    "        \n",
    "    #split df into x and y\n",
    "    y = data[['target']]\n",
    "    x = data[['danceability', 'energy', 'key', 'loudness', 'mode', 'speechiness',\n",
    "       'acousticness', 'instrumentalness', 'liveness', 'valence', 'tempo',\n",
    "       'duration_ms', 'time_signature', 'chorus_hit']]\n",
    "    y = y['target'].to_numpy()\n",
    "    #train-test split\n",
    "    x_train, x_test, y_train, y_test = train_test_split(x,y, test_size = 0.2, random_state = 42)\n",
    "    \n",
    "    #scale x with standardscaler\n",
    "    scaler  = StandardScaler()\n",
    "    scaler.fit(x_train)\n",
    "    x_train =scaler.fit_transform(x_train)\n",
    "    x_test = scaler.transform(x_test)\n",
    "    \n",
    "    return x_train, x_test, y_train, y_test\n",
    "    "
   ]
  },
  {
   "cell_type": "code",
   "execution_count": 18,
   "id": "2e9c0150",
   "metadata": {},
   "outputs": [],
   "source": [
    " x_train, x_test, y_train, y_test = data_preprocessing(data, outlier = False, threshold =0.99999999999999999995)"
   ]
  },
  {
   "cell_type": "code",
   "execution_count": null,
   "id": "6fe24448",
   "metadata": {},
   "outputs": [],
   "source": []
  },
  {
   "cell_type": "code",
   "execution_count": 19,
   "id": "73d9489a",
   "metadata": {},
   "outputs": [],
   "source": [
    "from sklearn import metrics\n",
    "from sklearn.metrics import classification_report,confusion_matrix,accuracy_score"
   ]
  },
  {
   "cell_type": "code",
   "execution_count": 20,
   "id": "f8e23f98",
   "metadata": {},
   "outputs": [
    {
     "name": "stdout",
     "output_type": "stream",
     "text": [
      "accuracy:  0.7131083639603519\n"
     ]
    }
   ],
   "source": [
    "# NAIVE - BAYES\n",
    "from sklearn.naive_bayes import GaussianNB\n",
    "nb_model = GaussianNB()\n",
    "nb_model.fit(x_train, y_train)\n",
    "nb_pred = nb_model.predict(x_test)\n",
    "acc_nb_model = metrics.accuracy_score(y_test,nb_pred)\n",
    "print(\"accuracy: \", acc_nb_model)"
   ]
  },
  {
   "cell_type": "code",
   "execution_count": 21,
   "id": "3fe43406",
   "metadata": {},
   "outputs": [
    {
     "name": "stdout",
     "output_type": "stream",
     "text": [
      "              precision    recall  f1-score   support\n",
      "\n",
      "           0       0.80      0.56      0.66      4431\n",
      "           1       0.67      0.86      0.75      4548\n",
      "\n",
      "    accuracy                           0.71      8979\n",
      "   macro avg       0.73      0.71      0.71      8979\n",
      "weighted avg       0.73      0.71      0.71      8979\n",
      "\n"
     ]
    }
   ],
   "source": [
    "print(classification_report(y_test, nb_pred.round()))"
   ]
  },
  {
   "cell_type": "code",
   "execution_count": 22,
   "id": "51e63152",
   "metadata": {},
   "outputs": [
    {
     "data": {
      "image/png": "[encoded data removed]",
      "text/plain": [
       "<Figure size 432x288 with 2 Axes>"
      ]
     },
     "metadata": {
      "needs_background": "light"
     },
     "output_type": "display_data"
    }
   ],
   "source": [
    "import matplotlib.pyplot as plt\n",
    "from sklearn.metrics import plot_confusion_matrix\n",
    "cm_nb = confusion_matrix(y_test, nb_pred.round())\n",
    "plot_confusion_matrix(nb_model, x_test, y_test)\n",
    "plt.xlabel('Prediction')\n",
    "plt.ylabel('Actual')\n",
    "plt.show()"
   ]
  },
  {
   "cell_type": "code",
   "execution_count": 23,
   "id": "36433e17",
   "metadata": {},
   "outputs": [
    {
     "name": "stdout",
     "output_type": "stream",
     "text": [
      "accuracy:  0.7761443367858336\n"
     ]
    }
   ],
   "source": [
    "#SVM\n",
    "from sklearn.svm import SVC \n",
    "svm_model = SVC()\n",
    "svm_model.fit(x_train, y_train)\n",
    "svm_pred = svm_model.predict(x_test)\n",
    "acc_svm_model = metrics.accuracy_score(y_test, svm_pred)\n",
    "print(\"accuracy: \", acc_svm_model)"
   ]
  },
  {
   "cell_type": "code",
   "execution_count": 24,
   "id": "d15c6158",
   "metadata": {},
   "outputs": [
    {
     "name": "stdout",
     "output_type": "stream",
     "text": [
      "              precision    recall  f1-score   support\n",
      "\n",
      "           0       0.84      0.67      0.75      4431\n",
      "           1       0.73      0.88      0.80      4548\n",
      "\n",
      "    accuracy                           0.78      8979\n",
      "   macro avg       0.79      0.77      0.77      8979\n",
      "weighted avg       0.79      0.78      0.77      8979\n",
      "\n"
     ]
    }
   ],
   "source": [
    "print(classification_report(y_test, svm_pred.round()))"
   ]
  },
  {
   "cell_type": "code",
   "execution_count": 25,
   "id": "1b5bdcac",
   "metadata": {},
   "outputs": [
    {
     "data": {
      "image/png": "[encoded data removed]",
      "text/plain": [
       "<Figure size 432x288 with 2 Axes>"
      ]
     },
     "metadata": {
      "needs_background": "light"
     },
     "output_type": "display_data"
    }
   ],
   "source": [
    "cm_svm = confusion_matrix(y_test, svm_pred.round())\n",
    "plot_confusion_matrix(svm_model, x_test, y_test)\n",
    "plt.xlabel('Prediction')\n",
    "plt.ylabel('Actual')\n",
    "plt.show()"
   ]
  },
  {
   "cell_type": "code",
   "execution_count": 26,
   "id": "b1ecd5c6",
   "metadata": {},
   "outputs": [
    {
     "name": "stdout",
     "output_type": "stream",
     "text": [
      "accuracy:  0.7513086089765008\n"
     ]
    }
   ],
   "source": [
    "#KNN\n",
    "from sklearn.neighbors import KNeighborsClassifier\n",
    "KNN_model=KNeighborsClassifier()\n",
    "KNN_model.fit(x_train, y_train)\n",
    "KNN_pred = KNN_model.predict(x_test)\n",
    "acc_KNN_model = metrics.accuracy_score(y_test,KNN_pred)\n",
    "print(\"accuracy: \", acc_KNN_model)"
   ]
  },
  {
   "cell_type": "code",
   "execution_count": 27,
   "id": "48d13788",
   "metadata": {},
   "outputs": [
    {
     "name": "stdout",
     "output_type": "stream",
     "text": [
      "              precision    recall  f1-score   support\n",
      "\n",
      "           0       0.79      0.67      0.73      4431\n",
      "           1       0.72      0.83      0.77      4548\n",
      "\n",
      "    accuracy                           0.75      8979\n",
      "   macro avg       0.76      0.75      0.75      8979\n",
      "weighted avg       0.76      0.75      0.75      8979\n",
      "\n"
     ]
    }
   ],
   "source": [
    "print(classification_report(y_test, KNN_pred.round()))"
   ]
  },
  {
   "cell_type": "code",
   "execution_count": 28,
   "id": "10942f7b",
   "metadata": {},
   "outputs": [
    {
     "data": {
      "image/png": "[encoded data removed]",
      "text/plain": [
       "<Figure size 432x288 with 2 Axes>"
      ]
     },
     "metadata": {
      "needs_background": "light"
     },
     "output_type": "display_data"
    }
   ],
   "source": [
    "import matplotlib.pyplot as plt\n",
    "from sklearn.metrics import plot_confusion_matrix\n",
    "cm = confusion_matrix(y_test, KNN_pred.round())\n",
    "plot_confusion_matrix(KNN_model, x_test, y_test)\n",
    "plt.xlabel('Prediction')\n",
    "plt.ylabel('Actual')\n",
    "plt.show()"
   ]
  },
  {
   "cell_type": "code",
   "execution_count": 29,
   "id": "29574c2e",
   "metadata": {},
   "outputs": [
    {
     "name": "stdout",
     "output_type": "stream",
     "text": [
      "accuracy:  0.7388350595834725\n"
     ]
    }
   ],
   "source": [
    "#DecisionTreeClassifier\n",
    "from sklearn.tree import DecisionTreeClassifier\n",
    "DT_model = DecisionTreeClassifier()  \n",
    "DT_model.fit(x_train,  y_train)\n",
    "DT_pred = DT_model.predict(x_test)\n",
    "acc_DT_model = metrics.accuracy_score(y_test,DT_pred)\n",
    "print(\"accuracy: \", acc_DT_model)"
   ]
  },
  {
   "cell_type": "code",
   "execution_count": 30,
   "id": "16082718",
   "metadata": {},
   "outputs": [
    {
     "name": "stdout",
     "output_type": "stream",
     "text": [
      "              precision    recall  f1-score   support\n",
      "\n",
      "           0       0.73      0.74      0.74      4431\n",
      "           1       0.75      0.73      0.74      4548\n",
      "\n",
      "    accuracy                           0.74      8979\n",
      "   macro avg       0.74      0.74      0.74      8979\n",
      "weighted avg       0.74      0.74      0.74      8979\n",
      "\n"
     ]
    }
   ],
   "source": [
    "print(classification_report(y_test, DT_pred.round()))"
   ]
  },
  {
   "cell_type": "code",
   "execution_count": 31,
   "id": "9ed2c939",
   "metadata": {},
   "outputs": [
    {
     "data": {
      "image/png": "[encoded data removed]",
      "text/plain": [
       "<Figure size 432x288 with 2 Axes>"
      ]
     },
     "metadata": {
      "needs_background": "light"
     },
     "output_type": "display_data"
    }
   ],
   "source": [
    "cm_DT= confusion_matrix(y_test, DT_pred.round())\n",
    "plot_confusion_matrix(DT_model, x_test, y_test)\n",
    "plt.xlabel('Prediction')\n",
    "plt.ylabel('Actual')\n",
    "plt.show()"
   ]
  },
  {
   "cell_type": "code",
   "execution_count": 32,
   "id": "d61f4221",
   "metadata": {},
   "outputs": [
    {
     "name": "stdout",
     "output_type": "stream",
     "text": [
      "accuracy:  0.8114489364071723\n"
     ]
    }
   ],
   "source": [
    "#RandomForestClassifier\n",
    "from sklearn.ensemble import RandomForestClassifier\n",
    "RF_model=RandomForestClassifier()\n",
    "RF_model.fit(x_train,  y_train)\n",
    "RF_pred = RF_model.predict(x_test)\n",
    "acc_RF_model = metrics.accuracy_score(y_test,RF_pred)\n",
    "print(\"accuracy: \", acc_RF_model)"
   ]
  },
  {
   "cell_type": "code",
   "execution_count": 33,
   "id": "ccc2824a",
   "metadata": {},
   "outputs": [
    {
     "name": "stdout",
     "output_type": "stream",
     "text": [
      "              precision    recall  f1-score   support\n",
      "\n",
      "           0       0.84      0.77      0.80      4431\n",
      "           1       0.79      0.85      0.82      4548\n",
      "\n",
      "    accuracy                           0.81      8979\n",
      "   macro avg       0.81      0.81      0.81      8979\n",
      "weighted avg       0.81      0.81      0.81      8979\n",
      "\n"
     ]
    }
   ],
   "source": [
    "print(classification_report(y_test, RF_pred.round()))"
   ]
  },
  {
   "cell_type": "code",
   "execution_count": 34,
   "id": "227a608d",
   "metadata": {},
   "outputs": [
    {
     "data": {
      "image/png": "[encoded data removed]",
      "text/plain": [
       "<Figure size 432x288 with 2 Axes>"
      ]
     },
     "metadata": {
      "needs_background": "light"
     },
     "output_type": "display_data"
    }
   ],
   "source": [
    "cm_RF = confusion_matrix(y_test, RF_pred.round())\n",
    "plot_confusion_matrix(RF_model, x_test, y_test)\n",
    "plt.xlabel('Prediction')\n",
    "plt.ylabel('Actual')\n",
    "plt.show()"
   ]
  },
  {
   "cell_type": "code",
   "execution_count": 35,
   "id": "45057e6e",
   "metadata": {},
   "outputs": [
    {
     "name": "stdout",
     "output_type": "stream",
     "text": [
      "accuracy: 0.8181311950105803\n"
     ]
    }
   ],
   "source": [
    "# xgboost\n",
    "import xgboost as xgb\n",
    "xgb_model=xgb.XGBClassifier(learning_rate =0.01,n_estimators=2000,max_depth=10,min_child_weight=1,gamma=0,subsample=0.8,colsample_bytree=0.8,objective= 'binary:logistic',nthread=4,scale_pos_weight=1,seed=27)\n",
    "xgb_model.fit(x_train, y_train)\n",
    "xgb_pred = xgb_model.predict(x_test)\n",
    "acc_xgb_model = metrics.accuracy_score(y_test, xgb_pred)\n",
    "print(\"accuracy:\", acc_xgb_model)"
   ]
  },
  {
   "cell_type": "code",
   "execution_count": 36,
   "id": "c6401dff",
   "metadata": {},
   "outputs": [
    {
     "name": "stdout",
     "output_type": "stream",
     "text": [
      "              precision    recall  f1-score   support\n",
      "\n",
      "           0       0.85      0.77      0.81      4431\n",
      "           1       0.79      0.87      0.83      4548\n",
      "\n",
      "    accuracy                           0.82      8979\n",
      "   macro avg       0.82      0.82      0.82      8979\n",
      "weighted avg       0.82      0.82      0.82      8979\n",
      "\n"
     ]
    }
   ],
   "source": [
    "\n",
    "print(classification_report(y_test, xgb_pred))"
   ]
  },
  {
   "cell_type": "code",
   "execution_count": 37,
   "id": "a02ce04d",
   "metadata": {},
   "outputs": [
    {
     "data": {
      "image/png": "[encoded data removed]",
      "text/plain": [
       "<Figure size 432x288 with 2 Axes>"
      ]
     },
     "metadata": {
      "needs_background": "light"
     },
     "output_type": "display_data"
    }
   ],
   "source": [
    "cm_xgb = confusion_matrix(y_test, xgb_pred.round())\n",
    "plot_confusion_matrix(xgb_model, x_test, y_test)\n",
    "plt.xlabel('Prediction')\n",
    "plt.ylabel('Actual')\n",
    "plt.show()"
   ]
  },
  {
   "cell_type": "code",
   "execution_count": 38,
   "id": "d19ad592",
   "metadata": {},
   "outputs": [
    {
     "name": "stdout",
     "output_type": "stream",
     "text": [
      "0.8086646619890856\n"
     ]
    }
   ],
   "source": [
    "#Ensemble learning for classifier\n",
    "from sklearn.ensemble import VotingClassifier\n",
    "cl1= DecisionTreeClassifier()\n",
    "cl2 = RandomForestClassifier()\n",
    "cl3 = SVC()\n",
    "cl4 = KNeighborsClassifier()\n",
    "cl5 = xgb.XGBClassifier()\n",
    "cl_voting =VotingClassifier(estimators=[('DT', cl1),('RF', cl2),('svm',cl3),('KNN', cl4),('xgb',cl5)],voting='hard')\n",
    "cl_voting.fit(x_train, y_train)\n",
    "pred_all = cl_voting.predict(x_test)\n",
    "print(accuracy_score(y_test, pred_all.round()))"
   ]
  },
  {
   "cell_type": "code",
   "execution_count": 39,
   "id": "e5164fe0",
   "metadata": {},
   "outputs": [
    {
     "name": "stdout",
     "output_type": "stream",
     "text": [
      "              precision    recall  f1-score   support\n",
      "\n",
      "           0       0.85      0.74      0.79      4431\n",
      "           1       0.77      0.88      0.82      4548\n",
      "\n",
      "    accuracy                           0.81      8979\n",
      "   macro avg       0.81      0.81      0.81      8979\n",
      "weighted avg       0.81      0.81      0.81      8979\n",
      "\n"
     ]
    }
   ],
   "source": [
    "print(classification_report(y_test, pred_all.round()))"
   ]
  },
  {
   "cell_type": "code",
   "execution_count": 40,
   "id": "1e5b5c81",
   "metadata": {},
   "outputs": [
    {
     "data": {
      "image/png": "[encoded data removed]",
      "text/plain": [
       "<Figure size 432x288 with 2 Axes>"
      ]
     },
     "metadata": {
      "needs_background": "light"
     },
     "output_type": "display_data"
    }
   ],
   "source": [
    "cm_en = confusion_matrix(y_test, pred_all.round())\n",
    "plot_confusion_matrix(cl_voting, x_test, y_test)\n",
    "plt.xlabel('Prediction')\n",
    "plt.ylabel('Actual')\n",
    "plt.show()"
   ]
  },
  {
   "cell_type": "code",
   "execution_count": 41,
   "id": "0b30c1d1",
   "metadata": {},
   "outputs": [
    {
     "data": {
      "text/plain": [
       "Pipeline(steps=[('ss', StandardScaler()), ('rf', RandomForestClassifier())])"
      ]
     },
     "execution_count": 41,
     "metadata": {},
     "output_type": "execute_result"
    }
   ],
   "source": [
    "from sklearn.pipeline import Pipeline\n",
    "pipe1 = Pipeline([('ss', StandardScaler()),('rf',RandomForestClassifier())])\n",
    "pipe1.fit(x_train, y_train)"
   ]
  },
  {
   "cell_type": "code",
   "execution_count": 42,
   "id": "436d6524",
   "metadata": {},
   "outputs": [
    {
     "data": {
      "text/plain": [
       "Pipeline(steps=[('cgb',\n",
       "                 XGBClassifier(base_score=0.5, booster='gbtree', callbacks=None,\n",
       "                               colsample_bylevel=1, colsample_bynode=1,\n",
       "                               colsample_bytree=1, early_stopping_rounds=None,\n",
       "                               enable_categorical=False, eval_metric=None,\n",
       "                               gamma=0, gpu_id=-1, grow_policy='depthwise',\n",
       "                               importance_type=None, interaction_constraints='',\n",
       "                               learning_rate=0.300000012, max_bin=256,\n",
       "                               max_cat_to_onehot=4, max_delta_step=0,\n",
       "                               max_depth=6, max_leaves=0, min_child_weight=1,\n",
       "                               missing=nan, monotone_constraints='()',\n",
       "                               n_estimators=100, n_jobs=0, num_parallel_tree=1,\n",
       "                               predictor='auto', random_state=0, reg_alpha=0,\n",
       "                               reg_lambda=1, ...))])"
      ]
     },
     "execution_count": 42,
     "metadata": {},
     "output_type": "execute_result"
    }
   ],
   "source": [
    "pipe2 = Pipeline([('cgb', xgb.XGBClassifier())])\n",
    "pipe2.fit(x_train, y_train)"
   ]
  },
  {
   "cell_type": "code",
   "execution_count": 43,
   "id": "1cfbad4a",
   "metadata": {},
   "outputs": [
    {
     "data": {
      "text/plain": [
       "array([0], dtype=int64)"
      ]
     },
     "execution_count": 43,
     "metadata": {},
     "output_type": "execute_result"
    }
   ],
   "source": [
    "pipe1.predict([[0.447,0.2470,5,-14.661,0,0.0346,0.87100,0.814000,0.0946,0.250,155.489,176880,3,33.18083]])"
   ]
  },
  {
   "cell_type": "code",
   "execution_count": 44,
   "id": "d743a646",
   "metadata": {},
   "outputs": [
    {
     "data": {
      "text/plain": [
       "array([0])"
      ]
     },
     "execution_count": 44,
     "metadata": {},
     "output_type": "execute_result"
    }
   ],
   "source": [
    "pipe2.predict([[0.741,0.6260,1,-4.826,0,0.0886,0.02000,0.000000,0.0828,0.706,108.029,188493,4,41.18681]])"
   ]
  },
  {
   "cell_type": "code",
   "execution_count": 45,
   "id": "08de5d1e",
   "metadata": {},
   "outputs": [],
   "source": [
    "import pickle"
   ]
  },
  {
   "cell_type": "code",
   "execution_count": 46,
   "id": "4744b350",
   "metadata": {},
   "outputs": [],
   "source": [
    "data = {\"model\": pipe1}\n",
    "with open('saved_steps.pkl', 'wb') as file:\n",
    "    pickle.dump(data, file)"
   ]
  },
  {
   "cell_type": "code",
   "execution_count": 47,
   "id": "d4780869",
   "metadata": {},
   "outputs": [],
   "source": [
    "with open('saved_steps.pkl','rb') as file:\n",
    "    data = pickle.load(file)\n",
    "    \n",
    "model = data['model']"
   ]
  },
  {
   "cell_type": "code",
   "execution_count": 48,
   "id": "c9fa4502",
   "metadata": {},
   "outputs": [],
   "source": [
    "input = [[0.741,0.6260,1,-4.826,0,0.0886,0.02000,0.000000,0.0828,0.706,108.029,188493,4,41.18681]]"
   ]
  },
  {
   "cell_type": "code",
   "execution_count": 49,
   "id": "09a39b27",
   "metadata": {},
   "outputs": [
    {
     "data": {
      "text/plain": [
       "array([0], dtype=int64)"
      ]
     },
     "execution_count": 49,
     "metadata": {},
     "output_type": "execute_result"
    }
   ],
   "source": [
    "pred = model.predict(input)\n",
    "pred"
   ]
  },
  {
   "cell_type": "code",
   "execution_count": null,
   "id": "fac1cbc5",
   "metadata": {},
   "outputs": [],
   "source": []
  },
  {
   "cell_type": "code",
   "execution_count": null,
   "id": "11c59569",
   "metadata": {},
   "outputs": [],
   "source": []
  }
 ],
 "metadata": {
  "kernelspec": {
   "display_name": "Python 3 (ipykernel)",
   "language": "python",
   "name": "python3"
  },
  "language_info": {
   "codemirror_mode": {
    "name": "ipython",
    "version": 3
   },
   "file_extension": ".py",
   "mimetype": "text/x-python",
   "name": "python",
   "nbconvert_exporter": "python",
   "pygments_lexer": "ipython3",
   "version": "3.9.7"
  }
 },
 "nbformat": 4,
 "nbformat_minor": 5
}
